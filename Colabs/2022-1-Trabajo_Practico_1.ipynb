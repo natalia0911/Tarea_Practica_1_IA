{
 "cells": [
  {
   "cell_type": "markdown",
   "metadata": {
    "colab_type": "text",
    "id": "Y5zYLAE8LTvr"
   },
   "source": [
    "**Instituto Tecnológico de Costa Rica**\n",
    "\n",
    "**Escuela de Ingeniería en Computación**\n",
    "\n",
    "**Curso: Inteligencia Artificial**\n",
    "\n",
    "**Segundo Semestre 2021**\n",
    "\n",
    "**Profesor: Luis-Alexander Calvo-Valverde**\n",
    "\n",
    "**Trabajo Práctico:** 01\n",
    "\n",
    "**Datos de la entrega:** Lunes 28 de marzo 2022, a más tardar a las 11:59 pm\n",
    "\n",
    "**Estudiantes:**\n",
    "- Estudiante_1\n",
    "- Estudiante_2\n",
    "\n",
    "\n",
    "\n",
    "\n"
   ]
  },
  {
   "cell_type": "markdown",
   "metadata": {},
   "source": [
    "# Parte 1.  Series temporales y graficación  (65 puntos)\n",
    "\n",
    "1. Se adjuntan un archivo en formato PDF titulado: Lectura_Caps_1-6_15. Estudie los capítulos 1 a 6 (los tres primeros capítulos ya los había estudiado en otro trabajo). Se adjutan los archivos .csv requeridos para probar el código.\n",
    "1. Luego, utilizando el archivo la serie temporal en el archivo: TS_d_1, realice la presente sección.\n",
    "1. Complete en celdas de código y/o texto según convenga. \n",
    "1. Documente bien su código.\n"
   ]
  },
  {
   "cell_type": "code",
   "execution_count": 1,
   "metadata": {},
   "outputs": [],
   "source": [
    "%matplotlib inline\n",
    "import pandas as pd\n",
    "import numpy as np\n",
    "import matplotlib.pyplot as plt\n"
   ]
  },
  {
   "cell_type": "markdown",
   "metadata": {
    "id": "EH4wZ1YRAqxb"
   },
   "source": [
    "### 1.1\n",
    "- Cargue el archivo.\n",
    "- Muestre los cinco primeros registros.\n",
    "- Muestre qué tipo de datos es la variable  series"
   ]
  },
  {
   "cell_type": "code",
   "execution_count": null,
   "metadata": {
    "colab": {
     "base_uri": "https://localhost:8080/",
     "height": 141
    },
    "id": "BA-EP3RPAqxW",
    "outputId": "c3e3e79f-0f8b-4c02-b13b-c9e2882d02d9"
   },
   "outputs": [],
   "source": []
  },
  {
   "cell_type": "markdown",
   "metadata": {
    "id": "9tNVtXGvAqxe"
   },
   "source": [
    "### 1.2\n",
    "- Muestra el promedio, la mediana y la desviación estándar de los datos"
   ]
  },
  {
   "cell_type": "code",
   "execution_count": null,
   "metadata": {
    "colab": {
     "base_uri": "https://localhost:8080/",
     "height": 52
    },
    "id": "Leqk_YXcAqxe",
    "outputId": "4e0009cf-6707-4bd8-95cb-d84fa3c3db81"
   },
   "outputs": [],
   "source": []
  },
  {
   "cell_type": "markdown",
   "metadata": {
    "id": "miPS0QToAqxi"
   },
   "source": [
    "### 1.3\n",
    "- Muestre el promedio para cada uno de los meses del año. Es decir, el promedio para todos los eneros, luego el promedio para todos los febreros, y así sucevivamente."
   ]
  },
  {
   "cell_type": "code",
   "execution_count": null,
   "metadata": {
    "colab": {
     "base_uri": "https://localhost:8080/",
     "height": 265
    },
    "id": "aNmBM81JAqxj",
    "outputId": "c19f542b-ea68-4a39-b0b6-6a966b3e3749"
   },
   "outputs": [],
   "source": []
  },
  {
   "cell_type": "markdown",
   "metadata": {
    "id": "F2aijX35Aqxm"
   },
   "source": [
    "### 1.4 \n",
    "- Utilizando la técnica de Lag Features, cree un DataFrame con los valores y un Lag=5"
   ]
  },
  {
   "cell_type": "code",
   "execution_count": null,
   "metadata": {
    "colab": {
     "base_uri": "https://localhost:8080/",
     "height": 123
    },
    "id": "hI1ridvAAqxn",
    "outputId": "7610cd1f-86ed-407e-bc55-fe7cbb03f59b"
   },
   "outputs": [],
   "source": []
  },
  {
   "cell_type": "markdown",
   "metadata": {
    "id": "97T8JyJoAqxq"
   },
   "source": [
    "### 1.5\n",
    "- Utilizando la técnica de rolling window, cree un DataFrame con los valores, y un ancho de ventana de 3. Tenga las columnas: 'mínimo','media','máximo','t+1'"
   ]
  },
  {
   "cell_type": "code",
   "execution_count": null,
   "metadata": {
    "colab": {
     "base_uri": "https://localhost:8080/",
     "height": 123
    },
    "id": "U7MXlIo7Aqxq",
    "outputId": "353bfc38-d68c-416d-ea56-4dac2c17dc2c"
   },
   "outputs": [],
   "source": []
  },
  {
   "cell_type": "markdown",
   "metadata": {
    "id": "7luDf08KAqxt"
   },
   "source": [
    "### 1.6\n",
    "- A la variable series, aplíquele la instrucción series.plot(). \n",
    "- ¿Qué puede decir del comportamiento de los datos según este gráfico?"
   ]
  },
  {
   "cell_type": "code",
   "execution_count": null,
   "metadata": {
    "colab": {
     "base_uri": "https://localhost:8080/",
     "height": 264
    },
    "id": "30z4eKbKAqxt",
    "outputId": "ca0fbf6a-0f32-4bd5-b75d-dec4a5831953"
   },
   "outputs": [],
   "source": []
  },
  {
   "cell_type": "markdown",
   "metadata": {
    "id": "hRSit4mpAqxv"
   },
   "source": [
    "### 1.7\n",
    "\n",
    "- Agrupe los datos y muestre un gráfico similar al de la seccion 6.4 de las lecturas (Stacked lines plots).  \n",
    "- ¿Puede hacer algún comentario del comportamiento anual de los datos?"
   ]
  },
  {
   "cell_type": "code",
   "execution_count": null,
   "metadata": {
    "colab": {
     "base_uri": "https://localhost:8080/",
     "height": 281
    },
    "id": "0bn7ujBQAqxw",
    "outputId": "9b4cccb3-5be5-465c-ed78-9580132bdb5d"
   },
   "outputs": [],
   "source": []
  },
  {
   "cell_type": "markdown",
   "metadata": {
    "id": "4T-6KIX9Aqxy"
   },
   "source": [
    "### 1.8\n",
    "- Muestre el histograma de la variable series. \n",
    "- ¿Qué conclusiones puede sacar del comportamiento de los datos?\n"
   ]
  },
  {
   "cell_type": "code",
   "execution_count": null,
   "metadata": {
    "colab": {
     "base_uri": "https://localhost:8080/",
     "height": 316
    },
    "id": "2yKA2qZLj7bA",
    "outputId": "acca8466-2da0-41c3-ca0b-8ce53ae3d58f"
   },
   "outputs": [],
   "source": []
  },
  {
   "cell_type": "markdown",
   "metadata": {
    "id": "tiMNXl0gAqx2"
   },
   "source": [
    "### 1.9\n",
    "- Muestre el gráfico de densidad de la variable series. \n",
    "- ¿Qué conclusiones puede sacar del comportamiento de los datos?\n"
   ]
  },
  {
   "cell_type": "code",
   "execution_count": null,
   "metadata": {
    "colab": {
     "base_uri": "https://localhost:8080/",
     "height": 264
    },
    "id": "pzC2ExG8Aqx2",
    "outputId": "cf976c33-4539-4eb5-d125-457d813b9c1a"
   },
   "outputs": [],
   "source": []
  },
  {
   "cell_type": "markdown",
   "metadata": {},
   "source": [
    "### 1.10\n",
    "- Agrupe los datos de la variable serie de manera Anual, y muestre los Boxplot de cada año. \n",
    "1. ¿Cómo se interpreta un gráfico Boxplot?\n",
    "1. ¿Qué conclusiones puede sacar del comportamiento de los datos?"
   ]
  },
  {
   "cell_type": "code",
   "execution_count": null,
   "metadata": {
    "colab": {
     "base_uri": "https://localhost:8080/",
     "height": 592
    },
    "id": "Vo9iEmKkAqx5",
    "outputId": "a417f4ba-d82a-479a-c509-14342777f174"
   },
   "outputs": [],
   "source": []
  },
  {
   "cell_type": "markdown",
   "metadata": {
    "id": "HnwFdPx1Aqx7"
   },
   "source": [
    "### 1.11\n",
    "- Agrupe los datos de la variable serie de manera Anual, y muestre el Heat Map por año. \n",
    "1. ¿Cómo se interpreta un gráfico Heat Map?\n",
    "1. ¿Qué conclusiones puede sacar del comportamiento de los datos?\n"
   ]
  },
  {
   "cell_type": "code",
   "execution_count": null,
   "metadata": {
    "colab": {
     "base_uri": "https://localhost:8080/",
     "height": 323
    },
    "id": "5cUNSvbhAqx8",
    "outputId": "2b63bca3-14ed-405a-80f5-4b5f1e85862f"
   },
   "outputs": [],
   "source": []
  },
  {
   "cell_type": "markdown",
   "metadata": {
    "id": "sNrgrlg3Aqx_"
   },
   "source": [
    "### 1.12\n",
    "- Muestre el Lag Scatter plot de la variable series. \n",
    "1. ¿Cómo se interpreta un Lag Scatter plot?\n",
    "1. ¿Qué conclusiones puede sacar del comportamiento de los datos?\n"
   ]
  },
  {
   "cell_type": "code",
   "execution_count": null,
   "metadata": {
    "colab": {
     "base_uri": "https://localhost:8080/",
     "height": 278
    },
    "id": "ChyCxl5YAqyA",
    "outputId": "d56212c1-16cb-4f02-d669-c944483ec9ef"
   },
   "outputs": [],
   "source": []
  },
  {
   "cell_type": "markdown",
   "metadata": {
    "id": "l1zWEbaqAqyC"
   },
   "source": [
    "### 1.13\n",
    "- Muestre el gráfico Autocorrelación de la variable series. \n",
    "1. ¿Cómo se interpreta este tipo de gráficos?\n",
    "1. ¿Qué conclusiones puede sacar del comportamiento de los datos?\n"
   ]
  },
  {
   "cell_type": "code",
   "execution_count": null,
   "metadata": {
    "colab": {
     "base_uri": "https://localhost:8080/",
     "height": 283
    },
    "id": "NfMFaPfEAqyC",
    "outputId": "e0f03803-bbc9-403e-dfdc-1e84655832af"
   },
   "outputs": [],
   "source": []
  },
  {
   "cell_type": "markdown",
   "metadata": {
    "id": "Qsid8DME3hDu"
   },
   "source": [
    "# Parte 2.  Diferenciación  (15 puntos)\n",
    "\n",
    "1. Se adjunta un archivo en formato PDF titulado: Lectura_Caps_1-6_15. Estudie el capítulo 15. Se adjutan los archivos .csv requeridos para probar el código.\n",
    "1. Luego, utilizando el archivo 'TS_d_2.csv' realice la presente sección.\n",
    "1. Complete en celdas de código y/o texto según convenga. \n",
    "1. Documente bien su código."
   ]
  },
  {
   "cell_type": "markdown",
   "metadata": {
    "id": "IE-Jp4rr3hDv"
   },
   "source": [
    "### 2.1\n",
    "- Cargue el archivo proporcionado y muestre los 10 primeros registros."
   ]
  },
  {
   "cell_type": "code",
   "execution_count": null,
   "metadata": {
    "colab": {
     "base_uri": "https://localhost:8080/",
     "height": 164
    },
    "id": "76kKzuhQ7pa9",
    "outputId": "2de79c66-5df4-46ea-e093-37ab1b87758e"
   },
   "outputs": [],
   "source": []
  },
  {
   "cell_type": "markdown",
   "metadata": {
    "id": "B4gG15-C3hDv"
   },
   "source": [
    "### 2.2\n",
    "\n",
    "- Aplique el Augmented Dickey-Fuller test, con una confianza estadística del 95% (por lo tanto un threshold del 0.05)\n",
    "- Explique los resultados"
   ]
  },
  {
   "cell_type": "code",
   "execution_count": null,
   "metadata": {
    "colab": {
     "base_uri": "https://localhost:8080/",
     "height": 90
    },
    "id": "kyueuSPw7zEv",
    "outputId": "726f3516-41f0-4a79-82a2-f17ce11dae60"
   },
   "outputs": [],
   "source": []
  },
  {
   "cell_type": "markdown",
   "metadata": {
    "id": "4KcVyjSR3hDw"
   },
   "source": [
    "### 2.3\n",
    "\n",
    "- Aplique la \"Diferenciación\" a la serie, y al resultado vuelva a aplicarle el Augmented Dickey-Fuller test, con una confianza estadística del 95% (por lo tanto un threshold del 0.05)\n",
    "- Explique los resultados"
   ]
  },
  {
   "cell_type": "code",
   "execution_count": null,
   "metadata": {
    "colab": {
     "base_uri": "https://localhost:8080/",
     "height": 90
    },
    "id": "BVlKGj4D74X9",
    "outputId": "1528179a-82f8-4f30-8a1c-9bf276c19dba"
   },
   "outputs": [],
   "source": []
  },
  {
   "cell_type": "markdown",
   "metadata": {
    "id": "iJJ1x_Wq3hDw"
   },
   "source": [
    "### 2.4\n",
    "\n",
    "- ¿Esta serie requería Diferenciación o no?  Explique el gráfico generado, ¿por qué sé mira así relacionado con la necesidad o no de diferenciación?"
   ]
  },
  {
   "cell_type": "code",
   "execution_count": null,
   "metadata": {
    "colab": {
     "base_uri": "https://localhost:8080/",
     "height": 606
    },
    "id": "0Omw-Yng7-G4",
    "outputId": "a568bd5c-9607-4ddd-866a-c2a9f5d0457d"
   },
   "outputs": [],
   "source": []
  },
  {
   "cell_type": "markdown",
   "metadata": {},
   "source": [
    "### 2.5\n",
    "\n",
    "- ¿Esta serie requería Diferenciación o no?  Explique el gráfico generado, ¿por qué cree que sé mira así?"
   ]
  },
  {
   "cell_type": "code",
   "execution_count": null,
   "metadata": {},
   "outputs": [],
   "source": []
  },
  {
   "cell_type": "markdown",
   "metadata": {},
   "source": [
    "# Parte 3.  ARIMA  (20 puntos)\n",
    "\n",
    "1. Se adjunta un archivo en formato PDF titulado: Lectura_Cap_24. Estudie su contenido. Se adjutan los archivos .csv requeridos para probar el código.\n",
    "1. Luego, utilizando el archivo 'TS_d_3.csv' realice la presente sección.\n",
    "1. Complete en celdas de código y/o texto según convenga. \n",
    "1. Documente bien su código."
   ]
  },
  {
   "cell_type": "markdown",
   "metadata": {},
   "source": [
    "### 3.1\n",
    "\n",
    "- Explique en qué consiste ARIMA."
   ]
  },
  {
   "cell_type": "code",
   "execution_count": null,
   "metadata": {},
   "outputs": [],
   "source": []
  },
  {
   "cell_type": "markdown",
   "metadata": {},
   "source": [
    "### 3.2\n",
    "\n",
    "- Cargue el archivo y use los gráficos que considere prudente para ver cómo se comportan los datos\n",
    "- Comente sus conclusiones"
   ]
  },
  {
   "cell_type": "code",
   "execution_count": null,
   "metadata": {},
   "outputs": [],
   "source": []
  },
  {
   "cell_type": "markdown",
   "metadata": {},
   "source": [
    "### 3.3\n",
    "\n",
    "- Analice si requiere hacer diferenciación o no. Explique"
   ]
  },
  {
   "cell_type": "code",
   "execution_count": null,
   "metadata": {},
   "outputs": [],
   "source": []
  },
  {
   "cell_type": "markdown",
   "metadata": {},
   "source": [
    "### 3.4\n",
    "\n",
    "- Haga forecast (similar a las últimas secciones de ese capítulo), con un train de 80% y un test de 20% (no olvide que son series temporales, no datos i.i.d.)"
   ]
  },
  {
   "cell_type": "code",
   "execution_count": null,
   "metadata": {},
   "outputs": [],
   "source": []
  },
  {
   "cell_type": "markdown",
   "metadata": {},
   "source": [
    "### 3.5\n",
    "\n",
    "- Grafique el predicho versus el real y comente sus conclusiones."
   ]
  },
  {
   "cell_type": "code",
   "execution_count": null,
   "metadata": {},
   "outputs": [],
   "source": []
  }
 ],
 "metadata": {
  "colab": {
   "collapsed_sections": [],
   "name": "Evaluación_01.ipynb",
   "provenance": []
  },
  "kernelspec": {
   "display_name": "Python 3 (ipykernel)",
   "language": "python",
   "name": "python3"
  },
  "language_info": {
   "codemirror_mode": {
    "name": "ipython",
    "version": 3
   },
   "file_extension": ".py",
   "mimetype": "text/x-python",
   "name": "python",
   "nbconvert_exporter": "python",
   "pygments_lexer": "ipython3",
   "version": "3.7.11"
  }
 },
 "nbformat": 4,
 "nbformat_minor": 1
}
