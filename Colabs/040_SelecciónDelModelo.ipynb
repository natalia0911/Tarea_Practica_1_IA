{
 "cells": [
  {
   "cell_type": "markdown",
   "metadata": {
    "colab_type": "text",
    "id": "sPD8sqQXo3_P"
   },
   "source": [
    "# Aprendizaje Automático - Selección del modelo\n",
    "\n",
    "---"
   ]
  },
  {
   "cell_type": "markdown",
   "metadata": {},
   "source": [
    "## Importar bibliotecas iniciales"
   ]
  },
  {
   "cell_type": "code",
   "execution_count": 16,
   "metadata": {},
   "outputs": [],
   "source": [
    "%matplotlib inline\n",
    "import pandas as pd\n",
    "import math\n",
    "import matplotlib.pyplot as plt\n",
    "import numpy as np"
   ]
  },
  {
   "cell_type": "markdown",
   "metadata": {},
   "source": [
    "## Variables globales"
   ]
  },
  {
   "cell_type": "code",
   "execution_count": 17,
   "metadata": {},
   "outputs": [],
   "source": [
    "# Para cuando se quiera mostrar como ejemplos algunos registros\n",
    "primeros = 3\n",
    "raya = \"_\"*40"
   ]
  },
  {
   "cell_type": "markdown",
   "metadata": {},
   "source": [
    "## Carga del conjunto de datos"
   ]
  },
  {
   "cell_type": "code",
   "execution_count": 18,
   "metadata": {},
   "outputs": [
    {
     "name": "stdout",
     "output_type": "stream",
     "text": [
      "                  x1             x2              y\n",
      "count  200000.000000  200000.000000  200000.000000\n",
      "mean       45.516208      98.186807      28.249618\n",
      "std        31.513990      60.351872      16.286906\n",
      "min         0.000016       0.001028       0.000000\n",
      "25%        16.844719      44.268722      14.145589\n",
      "50%        44.933090      95.995954      28.245107\n",
      "75%        73.005882     150.803832      42.348382\n",
      "max       101.055767     205.845169      57.472201\n"
     ]
    }
   ],
   "source": [
    "dataset = pd.read_csv('datos_practica.csv', delimiter=';')  \n",
    "print(dataset.describe())"
   ]
  },
  {
   "cell_type": "code",
   "execution_count": 19,
   "metadata": {},
   "outputs": [
    {
     "name": "stdout",
     "output_type": "stream",
     "text": [
      "          x1          x2          y\n",
      "0  87.822354  178.663006  49.125563\n",
      "1  14.407329   29.309812   8.059089\n",
      "2  65.433748  133.116336  36.601953\n"
     ]
    }
   ],
   "source": [
    "print(dataset.head(primeros))"
   ]
  },
  {
   "cell_type": "code",
   "execution_count": 20,
   "metadata": {},
   "outputs": [
    {
     "data": {
      "image/png": "[encoded data removed]",
      "text/plain": [
       "<Figure size 432x288 with 1 Axes>"
      ]
     },
     "metadata": {
      "needs_background": "light"
     },
     "output_type": "display_data"
    }
   ],
   "source": [
    "valores_x = np.array(range(0,dataset.shape[0]))\n",
    "valores_y = np.array(dataset[\"y\"])\n",
    "plt.boxplot(valores_y)\n",
    "plt.show()"
   ]
  },
  {
   "cell_type": "markdown",
   "metadata": {},
   "source": [
    "## Separar columnas"
   ]
  },
  {
   "cell_type": "code",
   "execution_count": 21,
   "metadata": {},
   "outputs": [
    {
     "name": "stdout",
     "output_type": "stream",
     "text": [
      "[[ 87.82235445 178.66300632]\n",
      " [ 14.40732869  29.30981153]\n",
      " [ 65.43374765 133.1163363 ]]\n",
      "\n",
      "Cantidad de muestras:  200000\n",
      "\n",
      "Cantidad de atributos (incluye y):  3\n"
     ]
    }
   ],
   "source": [
    "my_data = pd.DataFrame(dataset).to_numpy()\n",
    "X = my_data[:,0:-1]\n",
    "cantidad_muestras = len(my_data)\n",
    "y = my_data[:,-1]\n",
    "\n",
    "print(X[0:3])\n",
    "print(\"\\nCantidad de muestras: \", len(my_data))\n",
    "print(\"\\nCantidad de atributos (incluye y): \", len(my_data[0]))"
   ]
  },
  {
   "cell_type": "markdown",
   "metadata": {},
   "source": [
    "## Separar en dos conjuntos Train y Test"
   ]
  },
  {
   "cell_type": "code",
   "execution_count": 22,
   "metadata": {},
   "outputs": [
    {
     "name": "stdout",
     "output_type": "stream",
     "text": [
      "\n",
      "Cantidad de muestras:  200000\n",
      "\n",
      "Tamaño del train:  140000\n",
      "\n",
      "Tamaño del test:  60000\n",
      "\n",
      "Primeros elementos del X_train:\n",
      "[[ 55.07095356 112.0215775 ]\n",
      " [ 16.50168155  33.57049642]\n",
      " [ 19.94948981  40.57158803]]\n",
      "\n",
      "Primeros elementos del X_test:\n",
      "[[ 59.00870761 120.04543907]\n",
      " [ 60.1792545  122.41374256]\n",
      " [  3.74760317   7.62400477]]\n",
      "\n",
      "Primeros elementos del y_train:\n",
      "[31.75795987  9.23061567 10.66777779]\n",
      "\n",
      "Primeros elementos del y_test:\n",
      "[33.00795132 32.18712078  2.0963127 ]\n"
     ]
    }
   ],
   "source": [
    "from sklearn.model_selection import train_test_split\n",
    "# https://scikit-learn.org/stable/modules/generated/sklearn.model_selection.train_test_split.html?highlight=split#sklearn.model_selection.train_test_split\n",
    "X_train, X_test, y_train, y_test = train_test_split(X, \n",
    "                                                    y, \n",
    "                                                    test_size=0.30, \n",
    "                                                    shuffle=True,\n",
    "                                                    random_state=10)   \n",
    "\n",
    "print(\"\\nCantidad de muestras: \", len(X_train)+len(X_test))\n",
    "print(\"\\nTamaño del train: \", len(X_train))\n",
    "print(\"\\nTamaño del test: \", len(X_test))\n",
    "print(\"\\nPrimeros elementos del X_train:\")\n",
    "print( X_train[0:primeros])\n",
    "print(\"\\nPrimeros elementos del X_test:\")\n",
    "print( X_test[0:primeros])\n",
    "print(\"\\nPrimeros elementos del y_train:\")\n",
    "print( y_train[0:primeros])\n",
    "print(\"\\nPrimeros elementos del y_test:\")\n",
    "print( y_test[0:primeros])\n"
   ]
  },
  {
   "cell_type": "markdown",
   "metadata": {},
   "source": [
    "## Escalar los datos"
   ]
  },
  {
   "cell_type": "code",
   "execution_count": 23,
   "metadata": {},
   "outputs": [
    {
     "name": "stdout",
     "output_type": "stream",
     "text": [
      "\n",
      "Primeros elementos del X_train:\n",
      "[[0.54495592 0.54420082]\n",
      " [0.16329256 0.16308197]\n",
      " [0.19741044 0.19709359]]\n",
      "\n",
      "Primeros elementos del X_test:\n",
      "[[0.58392208 0.58318109]\n",
      " [0.59550526 0.59468642]\n",
      " [0.0370842  0.03703276]]\n",
      "\n",
      "Primeros elementos del y_train:\n",
      "[31.75795987  9.23061567 10.66777779]\n",
      "\n",
      "Primeros elementos del y_test:\n",
      "[33.00795132 32.18712078  2.0963127 ]\n"
     ]
    }
   ],
   "source": [
    "from sklearn.preprocessing import MinMaxScaler\n",
    "# https://scikit-learn.org/stable/modules/generated/sklearn.preprocessing.MinMaxScaler.html#sklearn.preprocessing.MinMaxScaler\n",
    "\n",
    "# Escalar datos\n",
    "transformer = MinMaxScaler().fit(X_train)\n",
    "X_train = transformer.transform( X_train)\n",
    "X_test = transformer.transform( X_test)\n",
    "\n",
    "print(\"\\nPrimeros elementos del X_train:\")\n",
    "print( X_train[0:primeros])\n",
    "print(\"\\nPrimeros elementos del X_test:\")\n",
    "print( X_test[0:primeros])\n",
    "print(\"\\nPrimeros elementos del y_train:\")\n",
    "print( y_train[0:primeros])\n",
    "print(\"\\nPrimeros elementos del y_test:\")\n",
    "print( y_test[0:primeros])"
   ]
  },
  {
   "cell_type": "markdown",
   "metadata": {},
   "source": [
    "## Ejemplo de predicción con Mínimos Cuadrados Ordinarios"
   ]
  },
  {
   "cell_type": "code",
   "execution_count": 24,
   "metadata": {},
   "outputs": [
    {
     "name": "stdout",
     "output_type": "stream",
     "text": [
      "\n",
      "Primeros elementos del y_test:\n",
      "[33.00795132 32.18712078  2.0963127 ]\n",
      "\n",
      "Primeros elementos del y_pred:\n",
      "[34.4054038  35.03252725  4.67722901]\n",
      "\n",
      "Coeficientes de la regresión:\n",
      "[13.59283037 40.8224266 ]\n",
      "\n",
      "Independent term in the linear model:\n",
      "2.6613826421176476\n"
     ]
    }
   ],
   "source": [
    "from sklearn.linear_model import LinearRegression\n",
    "# https://scikit-learn.org/stable/modules/generated/sklearn.linear_model.LinearRegression.html#sklearn.linear_model.LinearRegression\n",
    "\n",
    "clf = LinearRegression(fit_intercept=True, \n",
    "                       normalize=False, \n",
    "                       copy_X=True, \n",
    "                       n_jobs=None)\n",
    "clf.fit(X_train, y_train)\n",
    "y_pred = clf.predict(X_test)\n",
    "print(\"\\nPrimeros elementos del y_test:\")\n",
    "print( y_test[0:primeros])\n",
    "print(\"\\nPrimeros elementos del y_pred:\")\n",
    "print( y_pred[0:primeros])\n",
    "print(\"\\nCoeficientes de la regresión:\")\n",
    "print(clf.coef_)\n",
    "print(\"\\nIndependent term in the linear model:\")\n",
    "print(clf.intercept_)"
   ]
  },
  {
   "cell_type": "markdown",
   "metadata": {},
   "source": [
    "## Métricas para evaluar la predicción"
   ]
  },
  {
   "cell_type": "code",
   "execution_count": 25,
   "metadata": {},
   "outputs": [
    {
     "name": "stdout",
     "output_type": "stream",
     "text": [
      "MSE:  4.881631878497774\n",
      "R2:  0.9101634852416783\n"
     ]
    }
   ],
   "source": [
    "from sklearn.metrics import mean_squared_error\n",
    "# https://scikit-learn.org/stable/modules/generated/sklearn.metrics.mean_squared_error.html#sklearn.metrics.mean_squared_error\n",
    "from sklearn.metrics import r2_score\n",
    "# https://scikit-learn.org/stable/modules/generated/sklearn.metrics.r2_score.html#sklearn.metrics.r2_score\n",
    "\n",
    "metricaMSE = mean_squared_error(y_test, y_pred, squared=False)\n",
    "# If True returns MSE value, if False returns RMSE value.\n",
    "print(\"MSE: \", metricaMSE)\n",
    "print(\"R2: \", r2_score(y_test, y_pred) )\n"
   ]
  },
  {
   "cell_type": "markdown",
   "metadata": {},
   "source": [
    "## Cross validation"
   ]
  },
  {
   "cell_type": "code",
   "execution_count": 26,
   "metadata": {},
   "outputs": [
    {
     "name": "stdout",
     "output_type": "stream",
     "text": [
      "corrida:  1  --  4.871975931533016\n",
      "corrida:  2  --  4.945508363472996\n",
      "corrida:  3  --  4.993696491273512\n",
      "corrida:  4  --  4.904347971131955\n",
      "corrida:  5  --  4.956879528941193\n",
      "Promedio:  4.934481657270534\n"
     ]
    }
   ],
   "source": [
    "from sklearn.model_selection import KFold\n",
    "# https://scikit-learn.org/stable/modules/generated/sklearn.model_selection.KFold.html#sklearn.model_selection.KFold\n",
    "\n",
    "numFolds = 5\n",
    "\n",
    "kf = KFold(n_splits=numFolds,\n",
    "           shuffle=True,\n",
    "           random_state=10)\n",
    "\n",
    "resultados = []\n",
    "kf.get_n_splits(X)\n",
    "contador = 1\n",
    "for train_index, test_index in kf.split(X):       \n",
    "    X_train, X_test = X[train_index], X[test_index]\n",
    "    y_train, y_test = y[train_index], y[test_index]    \n",
    "\n",
    "    clf = LinearRegression(fit_intercept=True, \n",
    "                       normalize=False, \n",
    "                       copy_X=True, \n",
    "                       n_jobs=None)\n",
    "    clf.fit(X_train, y_train)\n",
    "    y_pred = clf.predict(X_test)\n",
    "    metrica = mean_squared_error(y_test, y_pred, squared=False)\n",
    "    # If True returns MSE value, if False returns RMSE value.\n",
    "    print(\"corrida: \", contador, \" -- \", metrica)\n",
    "    contador += 1    \n",
    "    resultados.append( metrica)\n",
    "print(\"Promedio: \", sum(resultados) / len(resultados) )\n"
   ]
  },
  {
   "cell_type": "markdown",
   "metadata": {},
   "source": [
    "## Bootstrapping "
   ]
  },
  {
   "cell_type": "code",
   "execution_count": 27,
   "metadata": {},
   "outputs": [
    {
     "name": "stdout",
     "output_type": "stream",
     "text": [
      "Selección de una muestra:\n",
      "\n",
      "Para  5  iteraciones de muestras de tamaño  20000  :\n",
      "corrida:  1  --  5.129659648676881\n",
      "corrida:  2  --  4.932373536816796\n",
      "corrida:  3  --  4.995393966294205\n",
      "corrida:  4  --  4.791427387367799\n",
      "corrida:  5  --  5.049746147361592\n",
      "Promedio:  4.979720137303454\n"
     ]
    }
   ],
   "source": [
    "from sklearn.utils import resample\n",
    "# https://scikit-learn.org/stable/modules/generated/sklearn.utils.resample.html\n",
    "\n",
    "print(\"Selección de una muestra:\")\n",
    "\n",
    "tamMuestra = int( len(X)*0.10 )\n",
    "iteraciones = 5\n",
    "\n",
    "resultados = []\n",
    "print(\"\\nPara \", iteraciones, \" iteraciones de muestras de tamaño \",tamMuestra,\" :\")\n",
    "for i in range(iteraciones):\n",
    "    X_muestra, y_muestra = resample(X, \n",
    "                                    y, \n",
    "                                    replace=False,\n",
    "                                    n_samples=tamMuestra)    \n",
    "    X_train, X_test, y_train, y_test = train_test_split(X_muestra, \n",
    "                                                        y_muestra, \n",
    "                                                        test_size=0.30, \n",
    "                                                        shuffle=True,\n",
    "                                                        random_state=10)   \n",
    "    clf = LinearRegression(fit_intercept=True, \n",
    "                            normalize=False, \n",
    "                            copy_X=True, \n",
    "                            n_jobs=None)\n",
    "    clf.fit(X_train, y_train)\n",
    "    y_pred = clf.predict(X_test)\n",
    "    metrica = mean_squared_error(y_test, y_pred, squared=False)\n",
    "    print(\"corrida: \", i+1, \" -- \", metrica)   \n",
    "    resultados.append( metrica)\n",
    "print(\"Promedio: \", sum(resultados) / len(resultados) )\n",
    "    "
   ]
  },
  {
   "cell_type": "markdown",
   "metadata": {},
   "source": [
    "## Tres conjuntos de datos\n",
    "\n",
    "Sobre todo cuando se requiren ajustar varios parámetros, se pueden utilizar tres conjuntos de datos:\n",
    "\n",
    "- Train: 60%\n",
    "- Validation: 20%  (para selección de hyperparámetros)\n",
    "- Test: 20%\n",
    "\n"
   ]
  },
  {
   "cell_type": "markdown",
   "metadata": {},
   "source": [
    "## Se ejemplificará con la regresión Ridge"
   ]
  },
  {
   "cell_type": "code",
   "execution_count": 28,
   "metadata": {},
   "outputs": [],
   "source": [
    "from sklearn.linear_model import Ridge\n",
    "# https://scikit-learn.org/stable/modules/generated/sklearn.linear_model.Ridge.html#sklearn.linear_model.Ridge\n"
   ]
  },
  {
   "cell_type": "markdown",
   "metadata": {},
   "source": [
    "### Opción 1 - Train-Validation  (dos conjuntos)   luego test"
   ]
  },
  {
   "cell_type": "code",
   "execution_count": 29,
   "metadata": {},
   "outputs": [
    {
     "name": "stdout",
     "output_type": "stream",
     "text": [
      "\n",
      "Tamaño del train:  120000\n",
      "\n",
      "Tamaño del validation:  40000\n",
      "\n",
      "Tamaño del test:  40000\n",
      "\n",
      "Cantidad de muestras:  200000\n",
      "\n",
      "\n",
      "Resultados en Train/Validation: \n",
      " {1e-05: 4.996473491365587, 0.0001: 4.996473491365576, 0.001: 4.996473491365458, 0.01: 4.9964734913642745, 0.1: 4.996473491352448, 1: 4.996473491234179, 10: 4.996473490051493, 100: 4.996473478225767, 1000: 4.996473360081398, 10000: 4.9964721899244395, 100000: 4.996461615002718, 1000000: 4.996466569578138}\n",
      "\n",
      "Mejor valor de métrica:  4.996461615002718 , con un alfa de:  100000\n",
      "\n",
      "Métrica en Train/Test:  4.819899597008172\n"
     ]
    }
   ],
   "source": [
    "from sklearn.model_selection import train_test_split\n",
    "# https://scikit-learn.org/stable/modules/generated/sklearn.model_selection.train_test_split.html?highlight=split#sklearn.model_selection.train_test_split\n",
    "\n",
    "# 60% Train\n",
    "X_train, X_, y_train, y_ = train_test_split(X, \n",
    "                                            y, \n",
    "                                            train_size=0.60, \n",
    "                                            shuffle=True,\n",
    "                                            random_state=10)   \n",
    "\n",
    "# 20% Validation,  20% Test\n",
    "X_validation, X_test, y_validation, y_test = train_test_split(  X_, \n",
    "                                                                y_, \n",
    "                                                                test_size=0.50, \n",
    "                                                                shuffle=True, \n",
    "                                                                random_state=10)   \n",
    "\n",
    "print(\"\\nTamaño del train: \", len(X_train))\n",
    "print(\"\\nTamaño del validation: \", len(X_validation))\n",
    "print(\"\\nTamaño del test: \", len(X_test))\n",
    "print(\"\\nCantidad de muestras: \", len(X_train)+len(X_validation)+len(X_test))\n",
    "\n",
    "def demeMejor(resultados):\n",
    "    mejor = math.inf\n",
    "    elMejor = 0.0\n",
    "    for e in resultados:\n",
    "        if resultados[e] < mejor:\n",
    "            mejor = resultados[e]\n",
    "            elMejor = e\n",
    "    return mejor, elMejor\n",
    "\n",
    "print(\"\\n\")\n",
    "# alfa es el hyperparámetro a seleccionar\n",
    "alfas = [10**i for i in (-5,-4,-3,-2,-1,0,1,2,3,4,5,6) ]\n",
    "resultados = {}\n",
    "for alfa in alfas:\n",
    "    # Ojo que hay Train/Test, no hay cross-validation\n",
    "    clf = Ridge(alpha=alfa)\n",
    "    clf.fit(X_train, y_train)\n",
    "    y_pred = clf.predict(X_validation)\n",
    "    metrica = mean_squared_error(y_validation, y_pred,  squared=False)\n",
    "    resultados[alfa] = metrica\n",
    "print(\"Resultados en Train/Validation: \\n\", resultados)\n",
    "\n",
    "mejor_metrica, mejor_alfa = demeMejor(resultados)\n",
    "print(\"\\nMejor valor de métrica: \", mejor_metrica, \", con un alfa de: \", mejor_alfa)\n",
    "\n",
    "# Ahora se hace el test con el alfa seleccionado con el validation test\n",
    "clf = Ridge(alpha=mejor_alfa)\n",
    "clf.fit(X_train, y_train)\n",
    "y_pred = clf.predict(X_test)\n",
    "metrica = mean_squared_error(y_test, y_pred,  squared=False)\n",
    "print(\"\\nMétrica en Train/Test: \", metrica)\n",
    "\n"
   ]
  },
  {
   "cell_type": "markdown",
   "metadata": {},
   "source": [
    "### Opción 2 - Train-Validation  (cross-validation)   luego test"
   ]
  },
  {
   "cell_type": "code",
   "execution_count": 30,
   "metadata": {},
   "outputs": [
    {
     "name": "stdout",
     "output_type": "stream",
     "text": [
      "\n",
      "Tamaño del train-validation:  160000\n",
      "\n",
      "Tamaño del test:  40000\n",
      "\n",
      "Cantidad de muestras:  200000\n",
      "________________________________________\n",
      "\n",
      "Métricas obtenidas en cross-validation para alfa de:  0.0001  -  [4.937267016418878, 4.936056004013891, 5.062843470553317, 4.953770786882986, 4.8654970104690145]      con un promedio de:  4.951086857667617\n",
      "\n",
      "Métricas obtenidas en cross-validation para alfa de:  0.001  -  [4.9372670164192085, 4.936056004014241, 5.0628434705536325, 4.953770786882196, 4.8654970104686095]      con un promedio de:  4.951086857667578\n",
      "\n",
      "Métricas obtenidas en cross-validation para alfa de:  0.01  -  [4.937267016422518, 4.936056004017745, 5.062843470556783, 4.953770786874299, 4.86549701046456]      con un promedio de:  4.951086857667181\n",
      "\n",
      "Métricas obtenidas en cross-validation para alfa de:  0.1  -  [4.937267016455605, 4.936056004052785, 5.0628434705882865, 4.953770786795316, 4.8654970104240665]      con un promedio de:  4.951086857663212\n",
      "\n",
      "Métricas obtenidas en cross-validation para alfa de:  1  -  [4.9372670167864845, 4.9360560044031825, 5.062843470903329, 4.9537707860054825, 4.865497010019131]      con un promedio de:  4.951086857623521\n",
      "\n",
      "Métricas obtenidas en cross-validation para alfa de:  10  -  [4.93726702009528, 4.936056007907169, 5.062843474053759, 4.95377077810717, 4.865497005969789]      con un promedio de:  4.951086857226634\n",
      "\n",
      "Métricas obtenidas en cross-validation para alfa de:  100  -  [4.937267053184108, 4.936056042947884, 5.06284350555891, 4.953770699125349, 4.865496965477551]      con un promedio de:  4.951086853258761\n",
      "\n",
      "Métricas obtenidas en cross-validation para alfa de:  1000  -  [4.937267384159362, 4.936056393440195, 5.062843820695788, 4.953769909436767, 4.8654965606738765]      con un promedio de:  4.951086813681198\n",
      "\n",
      "Métricas obtenidas en cross-validation para alfa de:  10000  -  [4.937270702607906, 4.936059906878184, 5.062846980599362, 4.953762025511714, 4.865492524505777]      con un promedio de:  4.951086428020588\n",
      "________________________________________\n",
      "\n",
      "Resultados del Train-Validation:  {0.0001: 4.951086857667617, 0.001: 4.951086857667578, 0.01: 4.951086857667181, 0.1: 4.951086857663212, 1: 4.951086857623521, 10: 4.951086857226634, 100: 4.951086853258761, 1000: 4.951086813681198, 10000: 4.951086428020588}\n",
      "________________________________________\n",
      "\n",
      "Mejor valor de métrica en Train-Validation:  4.951086428020588 , Alfa:  10000\n",
      "\n",
      "métrica con Train-Test:  4.8719729206836595\n"
     ]
    }
   ],
   "source": [
    "X_trainVal, X_test, y_trainval, y_test = train_test_split(X, \n",
    "                                                          y, \n",
    "                                                          train_size=0.80, \n",
    "                                                          shuffle=True,\n",
    "                                                          random_state=10)   \n",
    "\n",
    "print(\"\\nTamaño del train-validation: \", len(X_trainVal))\n",
    "print(\"\\nTamaño del test: \", len(X_test))\n",
    "\n",
    "print(\"\\nCantidad de muestras: \", len(X_trainVal)+len(X_test))\n",
    "\n",
    "def demeMejor(resultados):\n",
    "    mejor = math.inf\n",
    "    elMejor = 0.0\n",
    "    for e in resultados:\n",
    "        if resultados[e] < mejor:\n",
    "            mejor = resultados[e]\n",
    "            elMejor = e\n",
    "    return mejor, elMejor\n",
    "\n",
    "alfas = [10**i for i in (-4,-3,-2,-1,0,1,2,3,4) ]\n",
    "resultados_alfa = {}\n",
    "print(raya)\n",
    "for alfa in alfas:\n",
    "    kf = KFold(n_splits=numFolds,\n",
    "               shuffle=True,\n",
    "               random_state=10)\n",
    "    resultados = []\n",
    "    kf.get_n_splits(X_trainVal)\n",
    "    contador = 1\n",
    "    for train_index, val_index in kf.split(X_trainVal):       \n",
    "        X_train, X_val = X_trainVal[train_index], X_trainVal[val_index]\n",
    "        y_train, y_val = y_trainval[train_index], y_trainval[val_index]\n",
    "\n",
    "        clf = Ridge(alpha=alfa)\n",
    "        clf.fit(X_train, y_train)\n",
    "        y_pred = clf.predict(X_val)\n",
    "        metrica = mean_squared_error(y_val, y_pred, squared=False)\n",
    "        # If True returns MSE value, if False returns RMSE value.\n",
    "        contador += 1    \n",
    "        resultados.append( metrica)\n",
    "    promedio = sum(resultados) / len(resultados) \n",
    "    print(\"\\nMétricas obtenidas en cross-validation para alfa de: \", alfa, \" - \", resultados, \n",
    "          \"     con un promedio de: \", promedio)\n",
    "    resultados_alfa[alfa] = promedio\n",
    "\n",
    "print(raya)\n",
    "print(\"\\nResultados del Train-Validation: \", resultados_alfa)\n",
    "mejor_metrica, mejor_alfa = demeMejor(resultados_alfa)\n",
    "print(raya)\n",
    "print(\"\\nMejor valor de métrica en Train-Validation: \", mejor_metrica,\", Alfa: \", mejor_alfa,)\n",
    "clf = Ridge(alpha=mejor_alfa)\n",
    "\n",
    "#############################################################################################\n",
    "clf.fit(X_trainVal, y_trainval)\n",
    "#############################################################################################\n",
    "\n",
    "y_pred = clf.predict(X_test)\n",
    "metrica = mean_squared_error(y_test, y_pred,  squared=False)\n",
    "print(\"\\nmétrica con Train-Test: \", metrica)\n"
   ]
  },
  {
   "cell_type": "code",
   "execution_count": null,
   "metadata": {},
   "outputs": [],
   "source": []
  }
 ],
 "metadata": {
  "colab": {
   "collapsed_sections": [],
   "name": "ML_LACV_ClasificaciónLineal.ipynb",
   "provenance": []
  },
  "kernelspec": {
   "display_name": "Python 3 (ipykernel)",
   "language": "python",
   "name": "python3"
  },
  "language_info": {
   "codemirror_mode": {
    "name": "ipython",
    "version": 3
   },
   "file_extension": ".py",
   "mimetype": "text/x-python",
   "name": "python",
   "nbconvert_exporter": "python",
   "pygments_lexer": "ipython3",
   "version": "3.7.11"
  }
 },
 "nbformat": 4,
 "nbformat_minor": 4
}
